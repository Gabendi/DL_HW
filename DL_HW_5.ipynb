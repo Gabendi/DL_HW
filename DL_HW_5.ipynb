{
  "nbformat": 4,
  "nbformat_minor": 0,
  "metadata": {
    "colab": {
      "name": "DL_HW_5.ipynb",
      "provenance": [],
      "collapsed_sections": [],
      "include_colab_link": true
    },
    "kernelspec": {
      "name": "python3",
      "display_name": "Python 3"
    },
    "accelerator": "GPU"
  },
  "cells": [
    {
      "cell_type": "markdown",
      "metadata": {
        "id": "view-in-github",
        "colab_type": "text"
      },
      "source": [
        "<a href=\"https://colab.research.google.com/github/Gabendi/DL_HW/blob/master/DL_HW_5.ipynb\" target=\"_parent\"><img src=\"https://colab.research.google.com/assets/colab-badge.svg\" alt=\"Open In Colab\"/></a>"
      ]
    },
    {
      "cell_type": "code",
      "metadata": {
        "id": "TOUXFIDS2O_e",
        "colab_type": "code",
        "colab": {}
      },
      "source": [
        "from keras.datasets import cifar10\n",
        "from keras.layers import Input, Dense, Lambda, Layer, Multiply, Add\n",
        "from keras.models import Model, Sequential\n",
        "from keras.utils.vis_utils import plot_model\n",
        "from keras import backend as K\n",
        "import matplotlib.pyplot as plt\n",
        "from scipy.stats import norm\n",
        "import numpy as np\n",
        "from keras.optimizers import Adam"
      ],
      "execution_count": 0,
      "outputs": []
    },
    {
      "cell_type": "code",
      "metadata": {
        "id": "ySDR-wir3OKy",
        "colab_type": "code",
        "colab": {}
      },
      "source": [
        "(x_train, y_train),(x_test,y_test) = cifar10.load_data() #loading data"
      ],
      "execution_count": 0,
      "outputs": []
    },
    {
      "cell_type": "code",
      "metadata": {
        "id": "W8mjRsdl35_C",
        "colab_type": "code",
        "colab": {}
      },
      "source": [
        "import matplotlib.pyplot as plt\n",
        "import numpy as np"
      ],
      "execution_count": 0,
      "outputs": []
    },
    {
      "cell_type": "code",
      "metadata": {
        "id": "-0OrN1H64An3",
        "colab_type": "code",
        "outputId": "a786695b-f250-48b0-b89a-f3c8e3257417",
        "colab": {
          "base_uri": "https://localhost:8080/",
          "height": 176
        }
      },
      "source": [
        "plt.figure(figsize=(2,2))\n",
        "plt.imshow(x_train[25])"
      ],
      "execution_count": 8,
      "outputs": [
        {
          "output_type": "execute_result",
          "data": {
            "text/plain": [
              "<matplotlib.image.AxesImage at 0x7fdcc8288160>"
            ]
          },
          "metadata": {
            "tags": []
          },
          "execution_count": 8
        },
        {
          "output_type": "display_data",
          "data": {
            "image/png": "[encoded data removed]",
            "text/plain": [
              "<Figure size 144x144 with 1 Axes>"
            ]
          },
          "metadata": {
            "tags": []
          }
        }
      ]
    },
    {
      "cell_type": "code",
      "metadata": {
        "id": "hOBfrc1x4CjG",
        "colab_type": "code",
        "colab": {}
      },
      "source": [
        "sort_order_train = y_train.argsort(axis=0)\n",
        "sort_order_test = y_test.argsort(axis=0)"
      ],
      "execution_count": 0,
      "outputs": []
    },
    {
      "cell_type": "code",
      "metadata": {
        "id": "xUK0q4w64aBM",
        "colab_type": "code",
        "colab": {}
      },
      "source": [
        "y_train = y_train[sort_order_train] #sorting by the labels and then choosing one\n",
        "x_train = x_train[sort_order_train]\n",
        "\n",
        "y_test = y_test[sort_order_test]\n",
        "x_test = x_test[sort_order_test]"
      ],
      "execution_count": 0,
      "outputs": []
    },
    {
      "cell_type": "code",
      "metadata": {
        "id": "mmanJz8L6pjC",
        "colab_type": "code",
        "colab": {}
      },
      "source": [
        "y_train = y_train.reshape((50000,1))\n",
        "x_train = x_train.reshape((50000,32,32,3))\n",
        "\n",
        "y_test = y_test.reshape((10000,1))\n",
        "x_test = x_test.reshape((10000,32,32,3))"
      ],
      "execution_count": 0,
      "outputs": []
    },
    {
      "cell_type": "code",
      "metadata": {
        "id": "n9nphyvh5L1h",
        "colab_type": "code",
        "colab": {}
      },
      "source": [
        "typ = 6 #choosing the label of frog\n",
        "begin_train_frogs = 0\n",
        "begin_t_f = False\n",
        "end_train_frogs = 0\n",
        "\n",
        "begin_test_frogs = 0\n",
        "begin_test_f = False\n",
        "end_test_frogs = 0\n",
        "\n",
        "for i in range(len(y_train)):\n",
        "  if y_train[i] == typ:\n",
        "    if begin_t_f == False:\n",
        "      begin_t_f = True\n",
        "      begin_train_frogs = i\n",
        "    end_train_frogs = i\n",
        "\n",
        "for i in range(len(y_test)):\n",
        "  if y_test[i] == typ:\n",
        "    if begin_test_f == False:\n",
        "      begin_test_f = True\n",
        "      begin_test_frogs = i\n",
        "    end_test_frogs = i\n",
        "\n",
        "x_test = x_test[begin_test_frogs:end_test_frogs]\n",
        "x_train = x_train[begin_train_frogs:end_train_frogs]"
      ],
      "execution_count": 0,
      "outputs": []
    },
    {
      "cell_type": "code",
      "metadata": {
        "id": "fnZg02jJ6A3J",
        "colab_type": "code",
        "colab": {}
      },
      "source": [
        "batch_size = 126\n",
        "original_dim = 1024*3 # shape of orig. pics\n",
        "latent_dim = 80 # latent dim: 2D\n",
        "intermediate_dim = 256 \n",
        "epochs = 15"
      ],
      "execution_count": 0,
      "outputs": []
    },
    {
      "cell_type": "code",
      "metadata": {
        "id": "X4an_4nx-y9L",
        "colab_type": "code",
        "colab": {}
      },
      "source": [
        "class KLDivergenceLayer(Layer):\n",
        "\n",
        "    def __init__(self, *args, **kwargs):\n",
        "        self.is_placeholder = True\n",
        "        super(KLDivergenceLayer, self).__init__(*args, **kwargs)\n",
        "\n",
        "    def call(self, inputs):\n",
        "\n",
        "        mu, log_var = inputs\n",
        "\n",
        "        kl_batch = - .5 * K.sum(1 + log_var -\n",
        "                                K.square(mu) -\n",
        "                                K.exp(log_var), axis=-1)\n",
        "\n",
        "        self.add_loss(K.mean(kl_batch), inputs=inputs)\n",
        "\n",
        "        return inputs\n"
      ],
      "execution_count": 0,
      "outputs": []
    },
    {
      "cell_type": "code",
      "metadata": {
        "id": "VWKteKNR-zuE",
        "colab_type": "code",
        "outputId": "59326a0d-c861-4bd9-e763-f57ecab12ae1",
        "colab": {
          "base_uri": "https://localhost:8080/",
          "height": 173
        }
      },
      "source": [
        "\n",
        "x = Input(shape=(original_dim,))\n",
        "\n",
        "# hidden layers\n",
        "h = Dense(intermediate_dim, activation='relu')(x)\n",
        "h = Dense(intermediate_dim, activation='relu')(h)\n",
        "h = Dense(intermediate_dim, activation='relu')(h)\n",
        "\n",
        "# output layers, log of var and mu\n",
        "z_mu = Dense(latent_dim)(h)\n",
        "z_log_var = Dense(latent_dim)(h)\n",
        "\n",
        "\n",
        "\n",
        "# KL-divergence \n",
        "z_mu, z_log_var = KLDivergenceLayer()([z_mu, z_log_var])\n",
        "\n",
        "# normalizing variance\n",
        "z_sigma = Lambda(lambda t: K.exp(.5*t))(z_log_var)\n",
        "\n",
        "# white noise\n",
        "eps = Input(tensor=K.random_normal(shape=(K.shape(x)[0],\n",
        "                                          latent_dim)))\n",
        "\n",
        "# keras Merge rétegek (Multiply, Add) : reparameterization\n",
        "z_eps = Multiply()([z_sigma, eps])\n",
        "z = Add()([z_mu, z_eps])\n",
        "\n",
        "\n",
        "# decoder network\n",
        "decoder = Sequential([\n",
        "    Dense(intermediate_dim, input_dim=latent_dim, activation='relu'),\n",
        "    Dense(intermediate_dim, activation='relu'),\n",
        "    Dense(intermediate_dim, activation='relu'),\n",
        "    Dense(intermediate_dim, activation='relu'),\n",
        "    Dense(original_dim, activation='sigmoid')\n",
        "])\n",
        "\n",
        "\n",
        "# the actual prediction\n",
        "x_pred = decoder(z)\n"
      ],
      "execution_count": 15,
      "outputs": [
        {
          "output_type": "stream",
          "text": [
            "WARNING:tensorflow:From /usr/local/lib/python3.6/dist-packages/keras/backend/tensorflow_backend.py:66: The name tf.get_default_graph is deprecated. Please use tf.compat.v1.get_default_graph instead.\n",
            "\n",
            "WARNING:tensorflow:From /usr/local/lib/python3.6/dist-packages/keras/backend/tensorflow_backend.py:541: The name tf.placeholder is deprecated. Please use tf.compat.v1.placeholder instead.\n",
            "\n",
            "WARNING:tensorflow:From /usr/local/lib/python3.6/dist-packages/keras/backend/tensorflow_backend.py:4432: The name tf.random_uniform is deprecated. Please use tf.random.uniform instead.\n",
            "\n",
            "WARNING:tensorflow:From /usr/local/lib/python3.6/dist-packages/keras/backend/tensorflow_backend.py:4409: The name tf.random_normal is deprecated. Please use tf.random.normal instead.\n",
            "\n"
          ],
          "name": "stdout"
        }
      ]
    },
    {
      "cell_type": "code",
      "metadata": {
        "id": "Dep5WVtr-7Qd",
        "colab_type": "code",
        "colab": {}
      },
      "source": [
        "\n",
        "# log_pθ(x|z)\n",
        "def nll(y_true, y_pred):\n",
        "    \"\"\" Negative log likelihood (Bernoulli). \"\"\"\n",
        "\n",
        "    # keras.losses.binary_crossentropy gives the mean\n",
        "    # over the last axis. we require the sum\n",
        "    return K.sum(K.binary_crossentropy(y_true, y_pred), axis=-1)"
      ],
      "execution_count": 0,
      "outputs": []
    },
    {
      "cell_type": "code",
      "metadata": {
        "id": "AGB3U0ld-_Ed",
        "colab_type": "code",
        "outputId": "f425a861-6cec-4f00-9ec9-b86e698fa6da",
        "colab": {
          "base_uri": "https://localhost:8080/",
          "height": 156
        }
      },
      "source": [
        "# the model itself\n",
        "vae = Model(inputs=[x, eps], outputs=x_pred)\n",
        "vae.compile(optimizer=Adam(lr=0.0016), loss=nll)"
      ],
      "execution_count": 17,
      "outputs": [
        {
          "output_type": "stream",
          "text": [
            "WARNING:tensorflow:From /usr/local/lib/python3.6/dist-packages/keras/optimizers.py:793: The name tf.train.Optimizer is deprecated. Please use tf.compat.v1.train.Optimizer instead.\n",
            "\n",
            "WARNING:tensorflow:From /usr/local/lib/python3.6/dist-packages/keras/backend/tensorflow_backend.py:3657: The name tf.log is deprecated. Please use tf.math.log instead.\n",
            "\n",
            "WARNING:tensorflow:From /usr/local/lib/python3.6/dist-packages/tensorflow_core/python/ops/nn_impl.py:183: where (from tensorflow.python.ops.array_ops) is deprecated and will be removed in a future version.\n",
            "Instructions for updating:\n",
            "Use tf.where in 2.0, which has the same broadcast rule as np.where\n"
          ],
          "name": "stdout"
        }
      ]
    },
    {
      "cell_type": "code",
      "metadata": {
        "id": "YeNd-zgL_B8x",
        "colab_type": "code",
        "colab": {}
      },
      "source": [
        "x_train = x_train.reshape(-1, original_dim) / 255. #preparing the data\n",
        "x_test = x_test.reshape(-1, original_dim) / 255."
      ],
      "execution_count": 0,
      "outputs": []
    },
    {
      "cell_type": "code",
      "metadata": {
        "id": "N4VCFlHe_bGA",
        "colab_type": "code",
        "outputId": "a2286e0a-388f-4bac-b028-6341469b6603",
        "colab": {
          "base_uri": "https://localhost:8080/",
          "height": 34
        }
      },
      "source": [
        "x_train.shape"
      ],
      "execution_count": 19,
      "outputs": [
        {
          "output_type": "execute_result",
          "data": {
            "text/plain": [
              "(4999, 3072)"
            ]
          },
          "metadata": {
            "tags": []
          },
          "execution_count": 19
        }
      ]
    },
    {
      "cell_type": "code",
      "metadata": {
        "id": "nL4mlghk_NWn",
        "colab_type": "code",
        "outputId": "52d35184-fb1a-49fa-9c90-22f5856aa524",
        "colab": {
          "base_uri": "https://localhost:8080/",
          "height": 1000
        }
      },
      "source": [
        "vae.fit(x_train,\n",
        "        x_train,\n",
        "        shuffle=True,\n",
        "        epochs=150,\n",
        "        batch_size=batch_size,\n",
        "        validation_data=(x_test, x_test)) #training"
      ],
      "execution_count": 20,
      "outputs": [
        {
          "output_type": "stream",
          "text": [
            "WARNING:tensorflow:From /usr/local/lib/python3.6/dist-packages/keras/backend/tensorflow_backend.py:1033: The name tf.assign_add is deprecated. Please use tf.compat.v1.assign_add instead.\n",
            "\n",
            "WARNING:tensorflow:From /usr/local/lib/python3.6/dist-packages/keras/backend/tensorflow_backend.py:1020: The name tf.assign is deprecated. Please use tf.compat.v1.assign instead.\n",
            "\n",
            "WARNING:tensorflow:From /usr/local/lib/python3.6/dist-packages/keras/backend/tensorflow_backend.py:3005: The name tf.Session is deprecated. Please use tf.compat.v1.Session instead.\n",
            "\n",
            "Train on 4999 samples, validate on 999 samples\n",
            "Epoch 1/150\n",
            "WARNING:tensorflow:From /usr/local/lib/python3.6/dist-packages/keras/backend/tensorflow_backend.py:190: The name tf.get_default_session is deprecated. Please use tf.compat.v1.get_default_session instead.\n",
            "\n",
            "WARNING:tensorflow:From /usr/local/lib/python3.6/dist-packages/keras/backend/tensorflow_backend.py:197: The name tf.ConfigProto is deprecated. Please use tf.compat.v1.ConfigProto instead.\n",
            "\n",
            "WARNING:tensorflow:From /usr/local/lib/python3.6/dist-packages/keras/backend/tensorflow_backend.py:207: The name tf.global_variables is deprecated. Please use tf.compat.v1.global_variables instead.\n",
            "\n",
            "WARNING:tensorflow:From /usr/local/lib/python3.6/dist-packages/keras/backend/tensorflow_backend.py:216: The name tf.is_variable_initialized is deprecated. Please use tf.compat.v1.is_variable_initialized instead.\n",
            "\n",
            "WARNING:tensorflow:From /usr/local/lib/python3.6/dist-packages/keras/backend/tensorflow_backend.py:223: The name tf.variables_initializer is deprecated. Please use tf.compat.v1.variables_initializer instead.\n",
            "\n",
            "4999/4999 [==============================] - 6s 1ms/step - loss: 2046.5087 - val_loss: 1989.5056\n",
            "Epoch 2/150\n",
            "4999/4999 [==============================] - 1s 136us/step - loss: 1983.4679 - val_loss: 1981.7036\n",
            "Epoch 3/150\n",
            "4999/4999 [==============================] - 1s 138us/step - loss: 1977.5390 - val_loss: 1970.2047\n",
            "Epoch 4/150\n",
            "4999/4999 [==============================] - 1s 138us/step - loss: 1966.4817 - val_loss: 1956.7671\n",
            "Epoch 5/150\n",
            "4999/4999 [==============================] - 1s 133us/step - loss: 1956.0245 - val_loss: 1950.0556\n",
            "Epoch 6/150\n",
            "4999/4999 [==============================] - 1s 132us/step - loss: 1947.1417 - val_loss: 1942.6071\n",
            "Epoch 7/150\n",
            "4999/4999 [==============================] - 1s 132us/step - loss: 1943.5804 - val_loss: 1935.5050\n",
            "Epoch 8/150\n",
            "4999/4999 [==============================] - 1s 130us/step - loss: 1932.9590 - val_loss: 1929.6313\n",
            "Epoch 9/150\n",
            "4999/4999 [==============================] - 1s 131us/step - loss: 1930.0528 - val_loss: 1925.8525\n",
            "Epoch 10/150\n",
            "4999/4999 [==============================] - 1s 133us/step - loss: 1925.1177 - val_loss: 1924.6808\n",
            "Epoch 11/150\n",
            "4999/4999 [==============================] - 1s 132us/step - loss: 1923.0222 - val_loss: 1917.9157\n",
            "Epoch 12/150\n",
            "4999/4999 [==============================] - 1s 132us/step - loss: 1917.5609 - val_loss: 1913.0730\n",
            "Epoch 13/150\n",
            "4999/4999 [==============================] - 1s 132us/step - loss: 1915.4970 - val_loss: 1911.7683\n",
            "Epoch 14/150\n",
            "4999/4999 [==============================] - 1s 133us/step - loss: 1912.6084 - val_loss: 1909.1893\n",
            "Epoch 15/150\n",
            "4999/4999 [==============================] - 1s 133us/step - loss: 1909.6661 - val_loss: 1907.1944\n",
            "Epoch 16/150\n",
            "4999/4999 [==============================] - 1s 131us/step - loss: 1907.8267 - val_loss: 1907.1671\n",
            "Epoch 17/150\n",
            "4999/4999 [==============================] - 1s 130us/step - loss: 1907.2746 - val_loss: 1904.9766\n",
            "Epoch 18/150\n",
            "4999/4999 [==============================] - 1s 133us/step - loss: 1904.8149 - val_loss: 1902.6852\n",
            "Epoch 19/150\n",
            "4999/4999 [==============================] - 1s 129us/step - loss: 1903.0810 - val_loss: 1901.4374\n",
            "Epoch 20/150\n",
            "4999/4999 [==============================] - 1s 131us/step - loss: 1901.2788 - val_loss: 1903.9287\n",
            "Epoch 21/150\n",
            "4999/4999 [==============================] - 1s 131us/step - loss: 1900.9831 - val_loss: 1898.5155\n",
            "Epoch 22/150\n",
            "4999/4999 [==============================] - 1s 132us/step - loss: 1900.2527 - val_loss: 1897.6616\n",
            "Epoch 23/150\n",
            "4999/4999 [==============================] - 1s 131us/step - loss: 1898.1370 - val_loss: 1897.1943\n",
            "Epoch 24/150\n",
            "4999/4999 [==============================] - 1s 131us/step - loss: 1897.1274 - val_loss: 1898.0227\n",
            "Epoch 25/150\n",
            "4999/4999 [==============================] - 1s 133us/step - loss: 1898.4798 - val_loss: 1896.5591\n",
            "Epoch 26/150\n",
            "4999/4999 [==============================] - 1s 134us/step - loss: 1894.6484 - val_loss: 1894.0195\n",
            "Epoch 27/150\n",
            "4999/4999 [==============================] - 1s 131us/step - loss: 1893.4899 - val_loss: 1893.5346\n",
            "Epoch 28/150\n",
            "4999/4999 [==============================] - 1s 129us/step - loss: 1892.5433 - val_loss: 1892.1110\n",
            "Epoch 29/150\n",
            "4999/4999 [==============================] - 1s 133us/step - loss: 1891.1455 - val_loss: 1892.4399\n",
            "Epoch 30/150\n",
            "4999/4999 [==============================] - 1s 130us/step - loss: 1890.9988 - val_loss: 1892.0778\n",
            "Epoch 31/150\n",
            "4999/4999 [==============================] - 1s 130us/step - loss: 1889.4522 - val_loss: 1890.6839\n",
            "Epoch 32/150\n",
            "4999/4999 [==============================] - 1s 134us/step - loss: 1889.1247 - val_loss: 1890.1208\n",
            "Epoch 33/150\n",
            "4999/4999 [==============================] - 1s 138us/step - loss: 1890.6760 - val_loss: 1891.2253\n",
            "Epoch 34/150\n",
            "4999/4999 [==============================] - 1s 131us/step - loss: 1888.9101 - val_loss: 1891.3903\n",
            "Epoch 35/150\n",
            "4999/4999 [==============================] - 1s 134us/step - loss: 1889.9768 - val_loss: 1890.6808\n",
            "Epoch 36/150\n",
            "4999/4999 [==============================] - 1s 131us/step - loss: 1889.7730 - val_loss: 1889.8990\n",
            "Epoch 37/150\n",
            "4999/4999 [==============================] - 1s 129us/step - loss: 1887.3679 - val_loss: 1889.0029\n",
            "Epoch 38/150\n",
            "4999/4999 [==============================] - 1s 132us/step - loss: 1887.5035 - val_loss: 1889.8569\n",
            "Epoch 39/150\n",
            "4999/4999 [==============================] - 1s 132us/step - loss: 1887.4442 - val_loss: 1888.6990\n",
            "Epoch 40/150\n",
            "4999/4999 [==============================] - 1s 132us/step - loss: 1885.9575 - val_loss: 1888.7982\n",
            "Epoch 41/150\n",
            "4999/4999 [==============================] - 1s 132us/step - loss: 1886.0916 - val_loss: 1889.4318\n",
            "Epoch 42/150\n",
            "4999/4999 [==============================] - 1s 134us/step - loss: 1885.8329 - val_loss: 1888.5481\n",
            "Epoch 43/150\n",
            "4999/4999 [==============================] - 1s 133us/step - loss: 1884.4077 - val_loss: 1887.7119\n",
            "Epoch 44/150\n",
            "4999/4999 [==============================] - 1s 133us/step - loss: 1884.4093 - val_loss: 1888.1019\n",
            "Epoch 45/150\n",
            "4999/4999 [==============================] - 1s 136us/step - loss: 1883.6881 - val_loss: 1886.7962\n",
            "Epoch 46/150\n",
            "4999/4999 [==============================] - 1s 132us/step - loss: 1883.2750 - val_loss: 1887.8225\n",
            "Epoch 47/150\n",
            "4999/4999 [==============================] - 1s 133us/step - loss: 1883.4443 - val_loss: 1886.9282\n",
            "Epoch 48/150\n",
            "4999/4999 [==============================] - 1s 138us/step - loss: 1882.6158 - val_loss: 1888.7844\n",
            "Epoch 49/150\n",
            "4999/4999 [==============================] - 1s 135us/step - loss: 1882.6769 - val_loss: 1886.3734\n",
            "Epoch 50/150\n",
            "4999/4999 [==============================] - 1s 141us/step - loss: 1883.1506 - val_loss: 1888.1003\n",
            "Epoch 51/150\n",
            "4999/4999 [==============================] - 1s 133us/step - loss: 1881.9599 - val_loss: 1887.5666\n",
            "Epoch 52/150\n",
            "4999/4999 [==============================] - 1s 135us/step - loss: 1881.5240 - val_loss: 1889.1616\n",
            "Epoch 53/150\n",
            "4999/4999 [==============================] - 1s 136us/step - loss: 1882.1323 - val_loss: 1888.0685\n",
            "Epoch 54/150\n",
            "4999/4999 [==============================] - 1s 132us/step - loss: 1881.5982 - val_loss: 1887.4035\n",
            "Epoch 55/150\n",
            "4999/4999 [==============================] - 1s 134us/step - loss: 1880.8613 - val_loss: 1887.3038\n",
            "Epoch 56/150\n",
            "4999/4999 [==============================] - 1s 133us/step - loss: 1880.1030 - val_loss: 1887.5356\n",
            "Epoch 57/150\n",
            "4999/4999 [==============================] - 1s 133us/step - loss: 1881.1136 - val_loss: 1887.9510\n",
            "Epoch 58/150\n",
            "4999/4999 [==============================] - 1s 131us/step - loss: 1881.1360 - val_loss: 1888.1627\n",
            "Epoch 59/150\n",
            "4999/4999 [==============================] - 1s 131us/step - loss: 1881.1013 - val_loss: 1887.5229\n",
            "Epoch 60/150\n",
            "4999/4999 [==============================] - 1s 129us/step - loss: 1879.9393 - val_loss: 1888.1639\n",
            "Epoch 61/150\n",
            "4999/4999 [==============================] - 1s 133us/step - loss: 1879.6019 - val_loss: 1886.7047\n",
            "Epoch 62/150\n",
            "4999/4999 [==============================] - 1s 131us/step - loss: 1879.7259 - val_loss: 1886.4078\n",
            "Epoch 63/150\n",
            "4999/4999 [==============================] - 1s 127us/step - loss: 1880.5105 - val_loss: 1886.2851\n",
            "Epoch 64/150\n",
            "4999/4999 [==============================] - 1s 130us/step - loss: 1879.9447 - val_loss: 1886.3563\n",
            "Epoch 65/150\n",
            "4999/4999 [==============================] - 1s 130us/step - loss: 1879.1775 - val_loss: 1888.4335\n",
            "Epoch 66/150\n",
            "4999/4999 [==============================] - 1s 133us/step - loss: 1877.2465 - val_loss: 1885.1941\n",
            "Epoch 67/150\n",
            "4999/4999 [==============================] - 1s 132us/step - loss: 1877.9483 - val_loss: 1886.1095\n",
            "Epoch 68/150\n",
            "4999/4999 [==============================] - 1s 131us/step - loss: 1878.2543 - val_loss: 1888.3833\n",
            "Epoch 69/150\n",
            "4999/4999 [==============================] - 1s 132us/step - loss: 1878.1838 - val_loss: 1886.5946\n",
            "Epoch 70/150\n",
            "4999/4999 [==============================] - 1s 134us/step - loss: 1877.0671 - val_loss: 1886.1341\n",
            "Epoch 71/150\n",
            "4999/4999 [==============================] - 1s 129us/step - loss: 1876.6041 - val_loss: 1887.5388\n",
            "Epoch 72/150\n",
            "4999/4999 [==============================] - 1s 132us/step - loss: 1876.3993 - val_loss: 1885.6772\n",
            "Epoch 73/150\n",
            "4999/4999 [==============================] - 1s 130us/step - loss: 1875.0572 - val_loss: 1886.8793\n",
            "Epoch 74/150\n",
            "4999/4999 [==============================] - 1s 132us/step - loss: 1876.5002 - val_loss: 1888.6148\n",
            "Epoch 75/150\n",
            "4999/4999 [==============================] - 1s 131us/step - loss: 1876.5411 - val_loss: 1886.5996\n",
            "Epoch 76/150\n",
            "4999/4999 [==============================] - 1s 131us/step - loss: 1874.9376 - val_loss: 1887.6748\n",
            "Epoch 77/150\n",
            "4999/4999 [==============================] - 1s 135us/step - loss: 1874.9162 - val_loss: 1885.5469\n",
            "Epoch 78/150\n",
            "4999/4999 [==============================] - 1s 132us/step - loss: 1875.5775 - val_loss: 1886.6906\n",
            "Epoch 79/150\n",
            "4999/4999 [==============================] - 1s 130us/step - loss: 1873.9029 - val_loss: 1886.8847\n",
            "Epoch 80/150\n",
            "4999/4999 [==============================] - 1s 131us/step - loss: 1873.5335 - val_loss: 1886.2724\n",
            "Epoch 81/150\n",
            "4999/4999 [==============================] - 1s 132us/step - loss: 1874.7655 - val_loss: 1886.7513\n",
            "Epoch 82/150\n",
            "4999/4999 [==============================] - 1s 131us/step - loss: 1874.9311 - val_loss: 1888.3854\n",
            "Epoch 83/150\n",
            "4999/4999 [==============================] - 1s 131us/step - loss: 1875.1689 - val_loss: 1886.5212\n",
            "Epoch 84/150\n",
            "4999/4999 [==============================] - 1s 130us/step - loss: 1873.6503 - val_loss: 1886.9263\n",
            "Epoch 85/150\n",
            "4999/4999 [==============================] - 1s 131us/step - loss: 1872.7937 - val_loss: 1886.0232\n",
            "Epoch 86/150\n",
            "4999/4999 [==============================] - 1s 133us/step - loss: 1874.2922 - val_loss: 1886.9868\n",
            "Epoch 87/150\n",
            "4999/4999 [==============================] - 1s 133us/step - loss: 1873.1283 - val_loss: 1886.2807\n",
            "Epoch 88/150\n",
            "4999/4999 [==============================] - 1s 134us/step - loss: 1871.5822 - val_loss: 1885.8911\n",
            "Epoch 89/150\n",
            "4999/4999 [==============================] - 1s 136us/step - loss: 1871.1919 - val_loss: 1887.3376\n",
            "Epoch 90/150\n",
            "4999/4999 [==============================] - 1s 141us/step - loss: 1871.0409 - val_loss: 1886.1636\n",
            "Epoch 91/150\n",
            "4999/4999 [==============================] - 1s 137us/step - loss: 1871.1009 - val_loss: 1886.5348\n",
            "Epoch 92/150\n",
            "4999/4999 [==============================] - 1s 136us/step - loss: 1870.7627 - val_loss: 1886.4151\n",
            "Epoch 93/150\n",
            "4999/4999 [==============================] - 1s 133us/step - loss: 1870.7499 - val_loss: 1886.5282\n",
            "Epoch 94/150\n",
            "4999/4999 [==============================] - 1s 134us/step - loss: 1870.2048 - val_loss: 1886.2151\n",
            "Epoch 95/150\n",
            "4999/4999 [==============================] - 1s 134us/step - loss: 1870.1328 - val_loss: 1888.0517\n",
            "Epoch 96/150\n",
            "4999/4999 [==============================] - 1s 131us/step - loss: 1870.0766 - val_loss: 1887.3491\n",
            "Epoch 97/150\n",
            "4999/4999 [==============================] - 1s 130us/step - loss: 1870.7232 - val_loss: 1886.7531\n",
            "Epoch 98/150\n",
            "4999/4999 [==============================] - 1s 133us/step - loss: 1869.9558 - val_loss: 1886.9311\n",
            "Epoch 99/150\n",
            "4999/4999 [==============================] - 1s 132us/step - loss: 1870.0656 - val_loss: 1886.8984\n",
            "Epoch 100/150\n",
            "4999/4999 [==============================] - 1s 131us/step - loss: 1870.7526 - val_loss: 1888.2883\n",
            "Epoch 101/150\n",
            "4999/4999 [==============================] - 1s 133us/step - loss: 1869.5035 - val_loss: 1886.9532\n",
            "Epoch 102/150\n",
            "4999/4999 [==============================] - 1s 132us/step - loss: 1868.8704 - val_loss: 1888.0847\n",
            "Epoch 103/150\n",
            "4999/4999 [==============================] - 1s 132us/step - loss: 1869.3872 - val_loss: 1890.1169\n",
            "Epoch 104/150\n",
            "4999/4999 [==============================] - 1s 130us/step - loss: 1868.9264 - val_loss: 1887.1403\n",
            "Epoch 105/150\n",
            "4999/4999 [==============================] - 1s 132us/step - loss: 1867.8821 - val_loss: 1888.2621\n",
            "Epoch 106/150\n",
            "4999/4999 [==============================] - 1s 136us/step - loss: 1867.5652 - val_loss: 1887.9447\n",
            "Epoch 107/150\n",
            "4999/4999 [==============================] - 1s 131us/step - loss: 1867.2833 - val_loss: 1889.4260\n",
            "Epoch 108/150\n",
            "4999/4999 [==============================] - 1s 133us/step - loss: 1867.4771 - val_loss: 1887.7563\n",
            "Epoch 109/150\n",
            "4999/4999 [==============================] - 1s 135us/step - loss: 1867.7762 - val_loss: 1888.7128\n",
            "Epoch 110/150\n",
            "4999/4999 [==============================] - 1s 134us/step - loss: 1867.6757 - val_loss: 1892.6366\n",
            "Epoch 111/150\n",
            "4999/4999 [==============================] - 1s 136us/step - loss: 1868.5795 - val_loss: 1890.3931\n",
            "Epoch 112/150\n",
            "4999/4999 [==============================] - 1s 133us/step - loss: 1868.1461 - val_loss: 1886.7610\n",
            "Epoch 113/150\n",
            "4999/4999 [==============================] - 1s 136us/step - loss: 1866.7257 - val_loss: 1887.8078\n",
            "Epoch 114/150\n",
            "4999/4999 [==============================] - 1s 132us/step - loss: 1867.1951 - val_loss: 1888.0797\n",
            "Epoch 115/150\n",
            "4999/4999 [==============================] - 1s 132us/step - loss: 1866.8576 - val_loss: 1888.8145\n",
            "Epoch 116/150\n",
            "4999/4999 [==============================] - 1s 130us/step - loss: 1867.4954 - val_loss: 1892.0529\n",
            "Epoch 117/150\n",
            "4999/4999 [==============================] - 1s 133us/step - loss: 1867.7600 - val_loss: 1886.7065\n",
            "Epoch 118/150\n",
            "4999/4999 [==============================] - 1s 135us/step - loss: 1865.4336 - val_loss: 1886.2255\n",
            "Epoch 119/150\n",
            "4999/4999 [==============================] - 1s 132us/step - loss: 1866.5565 - val_loss: 1888.3222\n",
            "Epoch 120/150\n",
            "4999/4999 [==============================] - 1s 130us/step - loss: 1866.3349 - val_loss: 1887.9850\n",
            "Epoch 121/150\n",
            "4999/4999 [==============================] - 1s 131us/step - loss: 1866.3500 - val_loss: 1887.6394\n",
            "Epoch 122/150\n",
            "4999/4999 [==============================] - 1s 131us/step - loss: 1867.0591 - val_loss: 1890.8840\n",
            "Epoch 123/150\n",
            "4999/4999 [==============================] - 1s 132us/step - loss: 1865.9633 - val_loss: 1889.4409\n",
            "Epoch 124/150\n",
            "4999/4999 [==============================] - 1s 132us/step - loss: 1864.7703 - val_loss: 1887.9489\n",
            "Epoch 125/150\n",
            "4999/4999 [==============================] - 1s 130us/step - loss: 1864.0790 - val_loss: 1888.1359\n",
            "Epoch 126/150\n",
            "4999/4999 [==============================] - 1s 131us/step - loss: 1864.2497 - val_loss: 1889.8400\n",
            "Epoch 127/150\n",
            "4999/4999 [==============================] - 1s 135us/step - loss: 1865.3389 - val_loss: 1888.3534\n",
            "Epoch 128/150\n",
            "4999/4999 [==============================] - 1s 130us/step - loss: 1864.0410 - val_loss: 1889.3845\n",
            "Epoch 129/150\n",
            "4999/4999 [==============================] - 1s 133us/step - loss: 1864.5515 - val_loss: 1888.1246\n",
            "Epoch 130/150\n",
            "4999/4999 [==============================] - 1s 133us/step - loss: 1866.3408 - val_loss: 1894.9750\n",
            "Epoch 131/150\n",
            "4999/4999 [==============================] - 1s 135us/step - loss: 1864.2463 - val_loss: 1891.6805\n",
            "Epoch 132/150\n",
            "4999/4999 [==============================] - 1s 132us/step - loss: 1864.0463 - val_loss: 1889.4316\n",
            "Epoch 133/150\n",
            "4999/4999 [==============================] - 1s 131us/step - loss: 1863.2054 - val_loss: 1889.6295\n",
            "Epoch 134/150\n",
            "4999/4999 [==============================] - 1s 129us/step - loss: 1863.4484 - val_loss: 1889.3667\n",
            "Epoch 135/150\n",
            "4999/4999 [==============================] - 1s 136us/step - loss: 1863.4485 - val_loss: 1889.1670\n",
            "Epoch 136/150\n",
            "4999/4999 [==============================] - 1s 134us/step - loss: 1863.0170 - val_loss: 1891.6802\n",
            "Epoch 137/150\n",
            "4999/4999 [==============================] - 1s 133us/step - loss: 1864.4225 - val_loss: 1893.5189\n",
            "Epoch 138/150\n",
            "4999/4999 [==============================] - 1s 133us/step - loss: 1863.7948 - val_loss: 1889.2853\n",
            "Epoch 139/150\n",
            "4999/4999 [==============================] - 1s 130us/step - loss: 1863.3572 - val_loss: 1889.3321\n",
            "Epoch 140/150\n",
            "4999/4999 [==============================] - 1s 131us/step - loss: 1863.7491 - val_loss: 1890.3218\n",
            "Epoch 141/150\n",
            "4999/4999 [==============================] - 1s 130us/step - loss: 1862.4282 - val_loss: 1889.9021\n",
            "Epoch 142/150\n",
            "4999/4999 [==============================] - 1s 130us/step - loss: 1861.6604 - val_loss: 1889.4211\n",
            "Epoch 143/150\n",
            "4999/4999 [==============================] - 1s 131us/step - loss: 1861.5868 - val_loss: 1890.8778\n",
            "Epoch 144/150\n",
            "4999/4999 [==============================] - 1s 146us/step - loss: 1861.9213 - val_loss: 1894.8293\n",
            "Epoch 145/150\n",
            "4999/4999 [==============================] - 1s 128us/step - loss: 1863.6835 - val_loss: 1888.6505\n",
            "Epoch 146/150\n",
            "4999/4999 [==============================] - 1s 130us/step - loss: 1863.1323 - val_loss: 1891.6591\n",
            "Epoch 147/150\n",
            "4999/4999 [==============================] - 1s 137us/step - loss: 1862.1410 - val_loss: 1891.1436\n",
            "Epoch 148/150\n",
            "4999/4999 [==============================] - 1s 128us/step - loss: 1861.3259 - val_loss: 1890.3027\n",
            "Epoch 149/150\n",
            "4999/4999 [==============================] - 1s 131us/step - loss: 1861.0136 - val_loss: 1891.6311\n",
            "Epoch 150/150\n",
            "4999/4999 [==============================] - 1s 132us/step - loss: 1860.4502 - val_loss: 1895.0168\n"
          ],
          "name": "stdout"
        },
        {
          "output_type": "execute_result",
          "data": {
            "text/plain": [
              "<keras.callbacks.History at 0x7fdcc76fbeb8>"
            ]
          },
          "metadata": {
            "tags": []
          },
          "execution_count": 20
        }
      ]
    },
    {
      "cell_type": "code",
      "metadata": {
        "id": "xCfV39Ia_S1n",
        "colab_type": "code",
        "outputId": "23ec6464-eada-4c67-82fa-aff3e9a4589d",
        "colab": {
          "base_uri": "https://localhost:8080/",
          "height": 176
        }
      },
      "source": [
        "z_sample = norm.ppf(np.random.rand(1,latent_dim)) #generating a picture\n",
        "generated_digit = decoder.predict(z_sample)\n",
        "plt.figure(figsize=(2,2))\n",
        "plt.imshow(generated_digit.reshape(32,32,3))"
      ],
      "execution_count": 26,
      "outputs": [
        {
          "output_type": "execute_result",
          "data": {
            "text/plain": [
              "<matplotlib.image.AxesImage at 0x7fdc6ecf6a58>"
            ]
          },
          "metadata": {
            "tags": []
          },
          "execution_count": 26
        },
        {
          "output_type": "display_data",
          "data": {
            "image/png": "[encoded data removed]",
            "text/plain": [
              "<Figure size 144x144 with 1 Axes>"
            ]
          },
          "metadata": {
            "tags": []
          }
        }
      ]
    },
    {
      "cell_type": "code",
      "metadata": {
        "id": "Ih_BPtrN_5kd",
        "colab_type": "code",
        "colab": {}
      },
      "source": [
        ""
      ],
      "execution_count": 0,
      "outputs": []
    }
  ]
}
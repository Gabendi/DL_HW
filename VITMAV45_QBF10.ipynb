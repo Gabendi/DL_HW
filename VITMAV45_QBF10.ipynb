{
  "nbformat": 4,
  "nbformat_minor": 0,
  "metadata": {
    "colab": {
      "name": "VITMAV45-QBF10",
      "provenance": [],
      "collapsed_sections": [],
      "include_colab_link": true
    },
    "kernelspec": {
      "name": "python3",
      "display_name": "Python 3"
    }
  },
  "cells": [
    {
      "cell_type": "markdown",
      "metadata": {
        "id": "view-in-github",
        "colab_type": "text"
      },
      "source": [
        "<a href=\"https://colab.research.google.com/github/Gabendi/DL_HW/blob/master/VITMAV45_QBF10.ipynb\" target=\"_parent\"><img src=\"https://colab.research.google.com/assets/colab-badge.svg\" alt=\"Open In Colab\"/></a>"
      ]
    },
    {
      "cell_type": "markdown",
      "metadata": {
        "id": "Of6I8hEZFEIq",
        "colab_type": "text"
      },
      "source": [
        "# bit.ly/vitmav45-2019"
      ]
    },
    {
      "cell_type": "code",
      "metadata": {
        "id": "s9M_guSGDXJo",
        "colab_type": "code",
        "colab": {}
      },
      "source": [
        "import numpy as np\n",
        "from sklearn import preprocessing\n",
        "import copy\n",
        "import matplotlib.pyplot as plt\n"
      ],
      "execution_count": 0,
      "outputs": []
    },
    {
      "cell_type": "code",
      "metadata": {
        "id": "ZysONC12Gpdl",
        "colab_type": "code",
        "colab": {}
      },
      "source": [
        "def activation(x): # sigmoid\n",
        "  return 1/(1+np.exp(-x))\n",
        "\n",
        "def dactivation(x): # sigmoid derivalt\n",
        "  return np.exp(-x)/((1+np.exp(-x))**2)"
      ],
      "execution_count": 0,
      "outputs": []
    },
    {
      "cell_type": "code",
      "metadata": {
        "id": "Lfl-beFJHP3v",
        "colab_type": "code",
        "outputId": "e66d6b64-6086-4b74-9e88-2e2c2db0b91a",
        "colab": {
          "base_uri": "https://localhost:8080/",
          "height": 287
        }
      },
      "source": [
        "segedX = np.linspace(-10,10,200)\n",
        "plt.plot(segedX,activation(segedX))\n",
        "plt.plot(segedX,dactivation(segedX))"
      ],
      "execution_count": 0,
      "outputs": [
        {
          "output_type": "execute_result",
          "data": {
            "text/plain": [
              "[<matplotlib.lines.Line2D at 0x7f7955229d30>]"
            ]
          },
          "metadata": {
            "tags": []
          },
          "execution_count": 52
        },
        {
          "output_type": "display_data",
          "data": {
            "image/png": "[encoded data removed]",
            "text/plain": [
              "<Figure size 432x288 with 1 Axes>"
            ]
          },
          "metadata": {
            "tags": []
          }
        }
      ]
    },
    {
      "cell_type": "code",
      "metadata": {
        "id": "D7cavpW3-KHd",
        "colab_type": "code",
        "colab": {}
      },
      "source": [
        "## nnetwork = MLP(2,3,1)\n",
        "class MLP:\n",
        "    def __init__(self, *args):\n",
        "        np.random.seed(123)\n",
        "        self.shape = args\n",
        "        n = len(args)\n",
        "        self.layers = []\n",
        "        # bemeneti reteg, +1 a bias\n",
        "        self.layers.append(np.ones(self.shape[0]+1))\n",
        "        # tobbi reteg, bias nelkul\n",
        "        for i in range(1,n):\n",
        "            self.layers.append(np.ones(self.shape[i]))\n",
        "        self.weights = []\n",
        "        for i in range(n-1):\n",
        "            self.weights.append(np.zeros((self.layers[i].size,\n",
        "                                          self.layers[i+1].size)))\n",
        "        #self.dw = ....\n",
        "        self.reset()\n",
        "    \n",
        "    def reset(self):\n",
        "        for i in range(len(self.weights)):\n",
        "            Z = np.random.random((self.layers[i].size,\n",
        "                                  self.layers[i+1].size))\n",
        "            self.weights[i][...] = (2*Z-1) # -1..1-be atskalazzuk\n",
        "\n",
        "    def propagate_forward(self, data):\n",
        "        self.layers[0][0:-1] = data\n",
        "        for i in range(1, len(self.shape)):\n",
        "            self.layers[i][...] = activation(np.dot(self.layers[i-1],\n",
        "                                                    self.weights[i-1]))\n",
        "        return self.layers[-1]\n",
        "\n",
        "    # backprop\n",
        "    def propagate_backward(self, target, lrate=0.1):\n",
        "        deltas = []\n",
        "        error = -(target-self.layers[-1]) # cost/loss/error funtion alapjan\n",
        "        delta = np.multiply(error,\n",
        "                            dactivation(np.dot(self.layers[-2],\n",
        "                                               self.weights[-1]))) #f'(s(3))\n",
        "        deltas.append(delta)\n",
        "        \n",
        "        # Gradiens kiszámítása a rejtett réteg(ek)ben\n",
        "        for i in range(len(self.shape)-2,0,-1):\n",
        "            delta = np.dot(deltas[0], self.weights[i].T)* \\\n",
        "                           dactivation(np.dot(self.layers[i-1],self.weights[i-1]))\n",
        "            deltas.insert(0,delta)\n",
        "\n",
        "        # Súlyok módosítása\n",
        "        for i in range(len(self.weights)):\n",
        "          layer = np.atleast_2d(self.layers[i])\n",
        "          delta = np.atleast_2d(deltas[i])\n",
        "\n",
        "          dw = -0.22*lrate*np.dot(layer.T, delta) #.....\n",
        "          self.weights[i] += dw\n",
        "\n",
        "        # Visszatérés a hibával\n",
        "        return (error**2).sum()\n",
        "\t\t\n",
        "def learn(network, X, Y, valid_split, test_split, epochs=5000, lrate=0.01):\n",
        "\n",
        "        # train-validation-test minták különválasztása\n",
        "        X_train = X[0:int(X.shape[0]*(1-valid_split-test_split))]\n",
        "        Y_train = Y[0:int(X.shape[0]*(1-valid_split-test_split))]\n",
        "        X_valid = X[int(X.shape[0]*(1-valid_split-test_split)):int(X.shape[0]*(1-test_split))]\n",
        "        Y_valid = Y[int(X.shape[0]*(1-valid_split-test_split)):int(X.shape[0]*(1-test_split))]\n",
        "        X_test  = X[int(X.shape[0]*(1-test_split)):]\n",
        "        Y_test  = Y[int(X.shape[0]*(1-test_split)):]\n",
        "    \n",
        "        # standardizálás\n",
        "        scaler = preprocessing.StandardScaler().fit(X_train)\n",
        "        X_train = scaler.transform(X_train)\n",
        "        X_valid = scaler.transform(X_valid)\n",
        "        X_test  = scaler.transform(X_test)\n",
        "\n",
        "        # adatok osszekeverese\n",
        "        randperm = np.random.permutation(len(X_train))\n",
        "        X_train, Y_train = X_train[randperm], Y_train[randperm]\n",
        "\t\t\n",
        "        # Tanítási fázis, epoch-szor megyünk át 1-1 véltelenszerűen kiválasztott mintán.\n",
        "        for i in range(epochs):\n",
        "          train_err = 0\n",
        "          for k in range(X_train.shape[0]):\n",
        "            network.propagate_forward( X_train [k] )\n",
        "            train_err += network.propagate_backward( Y_train[k], lrate )\n",
        "          train_err /= X_train.shape[0]\n",
        "\n",
        "          # validacio\n",
        "          valid_err = 0\n",
        "          o_valid = np.zeros(X_valid.shape[0])\n",
        "          for k in range(X_valid.shape[0]):\n",
        "            o_valid[k] = network.propagate_forward( X_valid[k] )\n",
        "            valid_err += (o_valid[k] - Y_valid[k])**2\n",
        "          valid_err /= Y_valid.shape[0]\n",
        "\n",
        "          print(\"%d epoch, train_err: %.4f, valid_err: %.4f\" % (i,train_err,valid_err))\n",
        "\t\t\t\t\n",
        "        # Tesztelési fázis\n",
        "        test_err = 0\n",
        "        o_test = np.zeros(X_test.shape[0])\n",
        "        for k in range(X_test.shape[0]):\n",
        "          o_test[k] = network.propagate_forward( X_test[k] )\n",
        "          print(\"Predikcio:\",o_test[k],\"valos:\",Y_test[k])\n",
        "          test_err += (o_test[k] - Y_test[k])**2\n",
        "        test_err /= Y_test.shape[0]  \n",
        "\n",
        "        print(\"TESZT HIBA:\",test_err)     \n",
        "        #fig1=plt.figure()\n",
        "        #plt.scatter(..."
      ],
      "execution_count": 0,
      "outputs": []
    },
    {
      "cell_type": "code",
      "metadata": {
        "id": "4y4v0H_aXrMg",
        "colab_type": "code",
        "colab": {}
      },
      "source": [
        "network = MLP(2,10,1)"
      ],
      "execution_count": 0,
      "outputs": []
    },
    {
      "cell_type": "code",
      "metadata": {
        "id": "65r1vEdLYOvz",
        "colab_type": "code",
        "colab": {}
      },
      "source": [
        "#samples = np.zeros(4, dtype[('input',float,2), ('output',float,1)])\n",
        "nb_samples = 200\n",
        "X = np.zeros((nb_samples,2))\n",
        "Y = np.zeros(nb_samples)\n",
        "for i in range(0,nb_samples,4):\n",
        "  noise = np.random.normal(0,1,8)\n",
        "  X[i],   Y[i]   = (-2+noise[0], -2+noise[1]), 0\n",
        "  X[i+1], Y[i+1] = ( 2+noise[2], -2+noise[3]), 1\n",
        "  X[i+2], Y[i+2] = (-2+noise[4],  2+noise[5]), 1\n",
        "  X[i+3], Y[i+3] = ( 2+noise[6],  2+noise[7]), 0\n",
        "  "
      ],
      "execution_count": 0,
      "outputs": []
    },
    {
      "cell_type": "code",
      "metadata": {
        "id": "4gVWmXwwZasn",
        "colab_type": "code",
        "outputId": "2f95c293-d715-433f-fd7e-17d793ebb0cd",
        "colab": {
          "base_uri": "https://localhost:8080/",
          "height": 287
        }
      },
      "source": [
        "plt.scatter(X[:,0],X[:,1],c=Y[:])"
      ],
      "execution_count": 0,
      "outputs": [
        {
          "output_type": "execute_result",
          "data": {
            "text/plain": [
              "<matplotlib.collections.PathCollection at 0x7f79550d3be0>"
            ]
          },
          "metadata": {
            "tags": []
          },
          "execution_count": 66
        },
        {
          "output_type": "display_data",
          "data": {
            "image/png": "[encoded data removed]",
            "text/plain": [
              "<Figure size 432x288 with 1 Axes>"
            ]
          },
          "metadata": {
            "tags": []
          }
        }
      ]
    },
    {
      "cell_type": "code",
      "metadata": {
        "id": "6OF-2AuTZlBm",
        "colab_type": "code",
        "outputId": "7bfd578c-226a-4687-ee00-1ace12b43696",
        "colab": {
          "base_uri": "https://localhost:8080/",
          "height": 1000
        }
      },
      "source": [
        "network.reset()\n",
        "learn(network,X,Y,0.2,0.1,lrate=0.3,epochs=100)"
      ],
      "execution_count": 0,
      "outputs": [
        {
          "output_type": "stream",
          "text": [
            "0 epoch, train_err: 0.2500, valid_err: 0.2467\n",
            "1 epoch, train_err: 0.2487, valid_err: 0.2456\n",
            "2 epoch, train_err: 0.2474, valid_err: 0.2445\n",
            "3 epoch, train_err: 0.2463, valid_err: 0.2435\n",
            "4 epoch, train_err: 0.2452, valid_err: 0.2425\n",
            "5 epoch, train_err: 0.2441, valid_err: 0.2416\n",
            "6 epoch, train_err: 0.2431, valid_err: 0.2406\n",
            "7 epoch, train_err: 0.2421, valid_err: 0.2396\n",
            "8 epoch, train_err: 0.2410, valid_err: 0.2386\n",
            "9 epoch, train_err: 0.2399, valid_err: 0.2376\n",
            "10 epoch, train_err: 0.2388, valid_err: 0.2365\n",
            "11 epoch, train_err: 0.2376, valid_err: 0.2353\n",
            "12 epoch, train_err: 0.2364, valid_err: 0.2341\n",
            "13 epoch, train_err: 0.2351, valid_err: 0.2328\n",
            "14 epoch, train_err: 0.2338, valid_err: 0.2314\n",
            "15 epoch, train_err: 0.2323, valid_err: 0.2300\n",
            "16 epoch, train_err: 0.2309, valid_err: 0.2285\n",
            "17 epoch, train_err: 0.2293, valid_err: 0.2269\n",
            "18 epoch, train_err: 0.2276, valid_err: 0.2252\n",
            "19 epoch, train_err: 0.2259, valid_err: 0.2234\n",
            "20 epoch, train_err: 0.2241, valid_err: 0.2215\n",
            "21 epoch, train_err: 0.2222, valid_err: 0.2195\n",
            "22 epoch, train_err: 0.2202, valid_err: 0.2175\n",
            "23 epoch, train_err: 0.2182, valid_err: 0.2153\n",
            "24 epoch, train_err: 0.2160, valid_err: 0.2130\n",
            "25 epoch, train_err: 0.2138, valid_err: 0.2106\n",
            "26 epoch, train_err: 0.2114, valid_err: 0.2082\n",
            "27 epoch, train_err: 0.2090, valid_err: 0.2056\n",
            "28 epoch, train_err: 0.2065, valid_err: 0.2030\n",
            "29 epoch, train_err: 0.2039, valid_err: 0.2002\n",
            "30 epoch, train_err: 0.2013, valid_err: 0.1974\n",
            "31 epoch, train_err: 0.1985, valid_err: 0.1945\n",
            "32 epoch, train_err: 0.1957, valid_err: 0.1916\n",
            "33 epoch, train_err: 0.1928, valid_err: 0.1885\n",
            "34 epoch, train_err: 0.1899, valid_err: 0.1854\n",
            "35 epoch, train_err: 0.1869, valid_err: 0.1822\n",
            "36 epoch, train_err: 0.1838, valid_err: 0.1790\n",
            "37 epoch, train_err: 0.1807, valid_err: 0.1757\n",
            "38 epoch, train_err: 0.1776, valid_err: 0.1725\n",
            "39 epoch, train_err: 0.1745, valid_err: 0.1691\n",
            "40 epoch, train_err: 0.1713, valid_err: 0.1658\n",
            "41 epoch, train_err: 0.1681, valid_err: 0.1624\n",
            "42 epoch, train_err: 0.1649, valid_err: 0.1591\n",
            "43 epoch, train_err: 0.1617, valid_err: 0.1557\n",
            "44 epoch, train_err: 0.1586, valid_err: 0.1524\n",
            "45 epoch, train_err: 0.1554, valid_err: 0.1491\n",
            "46 epoch, train_err: 0.1523, valid_err: 0.1458\n",
            "47 epoch, train_err: 0.1492, valid_err: 0.1425\n",
            "48 epoch, train_err: 0.1461, valid_err: 0.1393\n",
            "49 epoch, train_err: 0.1431, valid_err: 0.1362\n",
            "50 epoch, train_err: 0.1402, valid_err: 0.1330\n",
            "51 epoch, train_err: 0.1373, valid_err: 0.1300\n",
            "52 epoch, train_err: 0.1344, valid_err: 0.1270\n",
            "53 epoch, train_err: 0.1316, valid_err: 0.1240\n",
            "54 epoch, train_err: 0.1289, valid_err: 0.1212\n",
            "55 epoch, train_err: 0.1262, valid_err: 0.1184\n",
            "56 epoch, train_err: 0.1237, valid_err: 0.1156\n",
            "57 epoch, train_err: 0.1211, valid_err: 0.1130\n",
            "58 epoch, train_err: 0.1187, valid_err: 0.1104\n",
            "59 epoch, train_err: 0.1163, valid_err: 0.1079\n",
            "60 epoch, train_err: 0.1140, valid_err: 0.1054\n",
            "61 epoch, train_err: 0.1118, valid_err: 0.1031\n",
            "62 epoch, train_err: 0.1096, valid_err: 0.1008\n",
            "63 epoch, train_err: 0.1075, valid_err: 0.0986\n",
            "64 epoch, train_err: 0.1055, valid_err: 0.0964\n",
            "65 epoch, train_err: 0.1036, valid_err: 0.0943\n",
            "66 epoch, train_err: 0.1017, valid_err: 0.0923\n",
            "67 epoch, train_err: 0.0999, valid_err: 0.0904\n",
            "68 epoch, train_err: 0.0981, valid_err: 0.0885\n",
            "69 epoch, train_err: 0.0964, valid_err: 0.0867\n",
            "70 epoch, train_err: 0.0948, valid_err: 0.0849\n",
            "71 epoch, train_err: 0.0932, valid_err: 0.0833\n",
            "72 epoch, train_err: 0.0917, valid_err: 0.0816\n",
            "73 epoch, train_err: 0.0902, valid_err: 0.0801\n",
            "74 epoch, train_err: 0.0888, valid_err: 0.0785\n",
            "75 epoch, train_err: 0.0874, valid_err: 0.0771\n",
            "76 epoch, train_err: 0.0861, valid_err: 0.0757\n",
            "77 epoch, train_err: 0.0849, valid_err: 0.0743\n",
            "78 epoch, train_err: 0.0836, valid_err: 0.0730\n",
            "79 epoch, train_err: 0.0824, valid_err: 0.0717\n",
            "80 epoch, train_err: 0.0813, valid_err: 0.0705\n",
            "81 epoch, train_err: 0.0802, valid_err: 0.0693\n",
            "82 epoch, train_err: 0.0791, valid_err: 0.0682\n",
            "83 epoch, train_err: 0.0781, valid_err: 0.0671\n",
            "84 epoch, train_err: 0.0771, valid_err: 0.0660\n",
            "85 epoch, train_err: 0.0762, valid_err: 0.0650\n",
            "86 epoch, train_err: 0.0752, valid_err: 0.0640\n",
            "87 epoch, train_err: 0.0743, valid_err: 0.0631\n",
            "88 epoch, train_err: 0.0735, valid_err: 0.0621\n",
            "89 epoch, train_err: 0.0726, valid_err: 0.0612\n",
            "90 epoch, train_err: 0.0718, valid_err: 0.0604\n",
            "91 epoch, train_err: 0.0710, valid_err: 0.0595\n",
            "92 epoch, train_err: 0.0703, valid_err: 0.0587\n",
            "93 epoch, train_err: 0.0696, valid_err: 0.0580\n",
            "94 epoch, train_err: 0.0688, valid_err: 0.0572\n",
            "95 epoch, train_err: 0.0682, valid_err: 0.0565\n",
            "96 epoch, train_err: 0.0675, valid_err: 0.0558\n",
            "97 epoch, train_err: 0.0668, valid_err: 0.0551\n",
            "98 epoch, train_err: 0.0662, valid_err: 0.0544\n",
            "99 epoch, train_err: 0.0656, valid_err: 0.0538\n",
            "Predikcio: 0.0980155459804825 valos: 0.0\n",
            "Predikcio: 0.8558669665618254 valos: 1.0\n",
            "Predikcio: 0.6806473985081681 valos: 1.0\n",
            "Predikcio: 0.1482555252384576 valos: 0.0\n",
            "Predikcio: 0.09824619486326208 valos: 0.0\n",
            "Predikcio: 0.7247325039203849 valos: 1.0\n",
            "Predikcio: 0.8498561988188714 valos: 1.0\n",
            "Predikcio: 0.15272551010074925 valos: 0.0\n",
            "Predikcio: 0.2243994781046784 valos: 0.0\n",
            "Predikcio: 0.8566638196914949 valos: 1.0\n",
            "Predikcio: 0.31431576016142665 valos: 1.0\n",
            "Predikcio: 0.44457569199154445 valos: 0.0\n",
            "Predikcio: 0.06324427075508698 valos: 0.0\n",
            "Predikcio: 0.8348350985432705 valos: 1.0\n",
            "Predikcio: 0.8941933568146074 valos: 1.0\n",
            "Predikcio: 0.18681857534635984 valos: 0.0\n",
            "Predikcio: 0.31025045181940225 valos: 0.0\n",
            "Predikcio: 0.8691387158573164 valos: 1.0\n",
            "Predikcio: 0.8033835577894262 valos: 1.0\n",
            "Predikcio: 0.2707811004077841 valos: 0.0\n",
            "TESZT HIBA: 0.06635433403245963\n"
          ],
          "name": "stdout"
        }
      ]
    },
    {
      "cell_type": "code",
      "metadata": {
        "id": "r5D_CFfWa-7-",
        "colab_type": "code",
        "outputId": "2b396d8a-1e39-4b29-e147-d96b820ccf09",
        "colab": {
          "base_uri": "https://localhost:8080/",
          "height": 167
        }
      },
      "source": [
        ""
      ],
      "execution_count": 0,
      "outputs": [
        {
          "output_type": "error",
          "ename": "NameError",
          "evalue": "ignored",
          "traceback": [
            "\u001b[0;31m---------------------------------------------------------------------------\u001b[0m",
            "\u001b[0;31mNameError\u001b[0m                                 Traceback (most recent call last)",
            "\u001b[0;32m<ipython-input-40-a8df91cb3429>\u001b[0m in \u001b[0;36m<module>\u001b[0;34m()\u001b[0m\n\u001b[0;32m----> 1\u001b[0;31m \u001b[0mX_test\u001b[0m\u001b[0;34m[\u001b[0m\u001b[0;36m3\u001b[0m\u001b[0;34m]\u001b[0m\u001b[0;34m\u001b[0m\u001b[0;34m\u001b[0m\u001b[0m\n\u001b[0m",
            "\u001b[0;31mNameError\u001b[0m: name 'X_test' is not defined"
          ]
        }
      ]
    },
    {
      "cell_type": "code",
      "metadata": {
        "id": "aer9EMLDZsU7",
        "colab_type": "code",
        "colab": {}
      },
      "source": [
        ""
      ],
      "execution_count": 0,
      "outputs": []
    }
  ]
}